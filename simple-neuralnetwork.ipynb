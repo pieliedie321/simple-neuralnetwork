{
 "cells": [
  {
   "cell_type": "code",
   "execution_count": 25,
   "id": "bf99e44b",
   "metadata": {},
   "outputs": [],
   "source": [
    "import numpy\n",
    "import scipy.special\n",
    "\n",
    "class neural_network:\n",
    "    \n",
    "    def __init__(self, input_nodes, hidden_nodes, output_nodes, learning_rate):\n",
    "        # задать количество узлов во входном, скрытом и выходном слое\n",
    "        self.inodes = input_nodes\n",
    "        self.hnodes = hidden_nodes\n",
    "        self.onodes = output_nodes\n",
    "        \n",
    "        # коэффициент обучения\n",
    "        self.lrate = learning_rate\n",
    "        \n",
    "        # Матрицы весовых коэффициентов связей wih и who\n",
    "        self.wih = numpy.random.normal(0.0, pow(3, -0.5), (self.hnodes, self.inodes))\n",
    "        self.who = numpy.random.normal(0.0, pow(3, -0.5), (self.onodes, self.hnodes))\n",
    "        \n",
    "        # использование сигмоиды в качестве функции активации\n",
    "        self.activation_function = lambda x: scipy.special.expit(x)\n",
    "        \n",
    "        pass\n",
    "    \n",
    "    def train(self, inputs_list, targets_list):\n",
    "        # преобразовать список входных значений в двухмерный массив\n",
    "        inputs = numpy.array(inputs_list, ndmin=2).T\n",
    "        targets = numpy.array(targets_list, ndmin=2),T\n",
    "        \n",
    "        # рассчитать входящие сигналы для скрытого слоя\n",
    "        hidden_inputs = numpy.dot(self.wih, inputs)\n",
    "        # рассчитать исходящие сигналы для скрытого слоя\n",
    "        hidden_outputs = self.activation_function(hidden_inputs)\n",
    "        \n",
    "        # рассчитать входящие сигналы для выходного слоя\n",
    "        final_inputs = numpy.dot(self.who, hidden_outputs)\n",
    "        # рассчитать исходящие сигналы для выходного слоя\n",
    "        final_outputs = self.activation_function(final_inputs)\n",
    "        \n",
    "        # ошибка = целевое значение - фактическое значение\n",
    "        output_errors = targets - final_outputs\n",
    "        \n",
    "        # ошибки скрытого слоя - это ошибки output_errors,\n",
    "        # распределенные пропорционально весовым коэффициентам связей\n",
    "        # и рекомбинированные на скрытых узлах\n",
    "        hidden_errors = numpy.dot(self.who.T, output_errors)\n",
    "        \n",
    "        # обновить весовые коэффициенты связей между скрытым и выходным слоями\n",
    "        self.who += self.lrate * numpy.dot((output_errors * final_outputs * \n",
    "                                         (1.0 - final_outputs)), numpy.transpose(hidden_outputs))\n",
    "        \n",
    "        # обновить весовые коэффициенты связей между входным и скрытым слоями\n",
    "        self.wih += self.lrate * numpy.dot((hidden_errors * hidden_outputs * \n",
    "                                            (1.0 - hidden_outputs)), numpy.transpose(inputs))\n",
    "        \n",
    "        pass\n",
    "    \n",
    "    def query(self, inputs_list):\n",
    "        # преобразовать список входных значений в двухмерный массив\n",
    "        inputs = numpy.array(inputs_list, ndmin=2).T\n",
    "        \n",
    "        # рассчитать входящие сигналы для скрытого слоя\n",
    "        hidden_inputs = numpy.dot(self.wih, inputs)\n",
    "        # рассчитать исходящие сигналы для скрытого слоя\n",
    "        hidden_outputs = self.activation_function(hidden_inputs)\n",
    "        \n",
    "        # рассчитать входящие сигналы для выходного слоя\n",
    "        final_inputs = numpy.dot(self.who, hidden_outputs)\n",
    "        # рассчитать исходящие сигналы для выходного слоя\n",
    "        final_outputs = self.activation_function(final_inputs)\n",
    "        \n",
    "        return final_outputs"
   ]
  },
  {
   "cell_type": "code",
   "execution_count": 29,
   "id": "aa65e58e",
   "metadata": {},
   "outputs": [
    {
     "name": "stdout",
     "output_type": "stream",
     "text": [
      "[[0.56050083]\n",
      " [0.24881947]\n",
      " [0.36989405]]\n"
     ]
    }
   ],
   "source": [
    "simple_neural = neural_network(3, 3, 3, 0.3)\n",
    "print(simple_neural.query([1.0, 0.5, -1.5]))"
   ]
  }
 ],
 "metadata": {
  "kernelspec": {
   "display_name": "Python 3",
   "language": "python",
   "name": "python3"
  },
  "language_info": {
   "codemirror_mode": {
    "name": "ipython",
    "version": 3
   },
   "file_extension": ".py",
   "mimetype": "text/x-python",
   "name": "python",
   "nbconvert_exporter": "python",
   "pygments_lexer": "ipython3",
   "version": "3.8.8"
  }
 },
 "nbformat": 4,
 "nbformat_minor": 5
}
